{
 "cells": [
  {
   "cell_type": "markdown",
   "metadata": {},
   "source": [
    "# Project: NICS Data - A Look at Handgun and Total Checks\n",
    "\n",
    "## Table of Contents\n",
    "<ul>\n",
    "<li><a href=\"#intro\">Introduction</a></li>\n",
    "<li><a href=\"#wrangling\">Data Wrangling</a></li>\n",
    "<li><a href=\"#eda\">Exploratory Data Analysis</a></li>\n",
    "<li><a href=\"#conclusions\">Conclusions</a></li>\n",
    "</ul>"
   ]
  },
  {
   "cell_type": "markdown",
   "metadata": {},
   "source": [
    "<a id='intro'></a>\n",
    "## Introduction\n",
    "\n",
    "For this project I have selected the data from the FBI's NICS database and the US Census for analysis of checks made for firearms purchases.  In particular we will look at handgun checks and total checks.  I have viewed these two variables mostly over a ten year period so that there are enough years to show any trends.  The ten years from 2007 to 2016 shows data that is still current and relevant today in 2018.  We will look at the total checks on a per capita basis in 2010 and 2016 since those are the two years for which census data is available."
   ]
  },
  {
   "cell_type": "code",
   "execution_count": 1,
   "metadata": {},
   "outputs": [],
   "source": [
    "\"\"\"Below are the modules that we will import for this project and the files that we will be reading to retrieve \n",
    "pertinent data.\"\"\"\n",
    "\n",
    "import numpy as np\n",
    "import pandas as pd\n",
    "import matplotlib.pyplot as plt\n",
    "%matplotlib inline\n",
    "\n",
    "# Note that the file name for the census data has been slightly modified.\n",
    "df_fbi = pd.read_excel('NICS_data.xlsx')\n",
    "df_cen = pd.read_csv('US_census_data.csv')\n"
   ]
  },
  {
   "cell_type": "markdown",
   "metadata": {},
   "source": [
    "<a id='wrangling'></a>\n",
    "## Data Wrangling\n"
   ]
  },
  {
   "cell_type": "markdown",
   "metadata": {},
   "source": [
    "### General Properties - NICS Data"
   ]
  },
  {
   "cell_type": "code",
   "execution_count": 2,
   "metadata": {
    "scrolled": false
   },
   "outputs": [
    {
     "data": {
      "text/html": [
       "<div>\n",
       "<style scoped>\n",
       "    .dataframe tbody tr th:only-of-type {\n",
       "        vertical-align: middle;\n",
       "    }\n",
       "\n",
       "    .dataframe tbody tr th {\n",
       "        vertical-align: top;\n",
       "    }\n",
       "\n",
       "    .dataframe thead th {\n",
       "        text-align: right;\n",
       "    }\n",
       "</style>\n",
       "<table border=\"1\" class=\"dataframe\">\n",
       "  <thead>\n",
       "    <tr style=\"text-align: right;\">\n",
       "      <th></th>\n",
       "      <th>month</th>\n",
       "      <th>state</th>\n",
       "      <th>permit</th>\n",
       "      <th>permit_recheck</th>\n",
       "      <th>handgun</th>\n",
       "      <th>long_gun</th>\n",
       "      <th>other</th>\n",
       "      <th>multiple</th>\n",
       "      <th>admin</th>\n",
       "      <th>prepawn_handgun</th>\n",
       "      <th>...</th>\n",
       "      <th>returned_other</th>\n",
       "      <th>rentals_handgun</th>\n",
       "      <th>rentals_long_gun</th>\n",
       "      <th>private_sale_handgun</th>\n",
       "      <th>private_sale_long_gun</th>\n",
       "      <th>private_sale_other</th>\n",
       "      <th>return_to_seller_handgun</th>\n",
       "      <th>return_to_seller_long_gun</th>\n",
       "      <th>return_to_seller_other</th>\n",
       "      <th>totals</th>\n",
       "    </tr>\n",
       "  </thead>\n",
       "  <tbody>\n",
       "    <tr>\n",
       "      <th>0</th>\n",
       "      <td>2017-09</td>\n",
       "      <td>Alabama</td>\n",
       "      <td>16717.0</td>\n",
       "      <td>0.0</td>\n",
       "      <td>5734.0</td>\n",
       "      <td>6320.0</td>\n",
       "      <td>221.0</td>\n",
       "      <td>317</td>\n",
       "      <td>0.0</td>\n",
       "      <td>15.0</td>\n",
       "      <td>...</td>\n",
       "      <td>0.0</td>\n",
       "      <td>0.0</td>\n",
       "      <td>0.0</td>\n",
       "      <td>9.0</td>\n",
       "      <td>16.0</td>\n",
       "      <td>3.0</td>\n",
       "      <td>0.0</td>\n",
       "      <td>0.0</td>\n",
       "      <td>3.0</td>\n",
       "      <td>32019</td>\n",
       "    </tr>\n",
       "    <tr>\n",
       "      <th>1</th>\n",
       "      <td>2017-09</td>\n",
       "      <td>Alaska</td>\n",
       "      <td>209.0</td>\n",
       "      <td>2.0</td>\n",
       "      <td>2320.0</td>\n",
       "      <td>2930.0</td>\n",
       "      <td>219.0</td>\n",
       "      <td>160</td>\n",
       "      <td>0.0</td>\n",
       "      <td>5.0</td>\n",
       "      <td>...</td>\n",
       "      <td>0.0</td>\n",
       "      <td>0.0</td>\n",
       "      <td>0.0</td>\n",
       "      <td>17.0</td>\n",
       "      <td>24.0</td>\n",
       "      <td>1.0</td>\n",
       "      <td>0.0</td>\n",
       "      <td>0.0</td>\n",
       "      <td>0.0</td>\n",
       "      <td>6303</td>\n",
       "    </tr>\n",
       "    <tr>\n",
       "      <th>2</th>\n",
       "      <td>2017-09</td>\n",
       "      <td>Arizona</td>\n",
       "      <td>5069.0</td>\n",
       "      <td>382.0</td>\n",
       "      <td>11063.0</td>\n",
       "      <td>7946.0</td>\n",
       "      <td>920.0</td>\n",
       "      <td>631</td>\n",
       "      <td>0.0</td>\n",
       "      <td>13.0</td>\n",
       "      <td>...</td>\n",
       "      <td>0.0</td>\n",
       "      <td>0.0</td>\n",
       "      <td>0.0</td>\n",
       "      <td>38.0</td>\n",
       "      <td>12.0</td>\n",
       "      <td>2.0</td>\n",
       "      <td>0.0</td>\n",
       "      <td>0.0</td>\n",
       "      <td>0.0</td>\n",
       "      <td>28394</td>\n",
       "    </tr>\n",
       "    <tr>\n",
       "      <th>3</th>\n",
       "      <td>2017-09</td>\n",
       "      <td>Arkansas</td>\n",
       "      <td>2935.0</td>\n",
       "      <td>632.0</td>\n",
       "      <td>4347.0</td>\n",
       "      <td>6063.0</td>\n",
       "      <td>165.0</td>\n",
       "      <td>366</td>\n",
       "      <td>51.0</td>\n",
       "      <td>12.0</td>\n",
       "      <td>...</td>\n",
       "      <td>0.0</td>\n",
       "      <td>0.0</td>\n",
       "      <td>0.0</td>\n",
       "      <td>13.0</td>\n",
       "      <td>23.0</td>\n",
       "      <td>0.0</td>\n",
       "      <td>0.0</td>\n",
       "      <td>2.0</td>\n",
       "      <td>1.0</td>\n",
       "      <td>17747</td>\n",
       "    </tr>\n",
       "    <tr>\n",
       "      <th>4</th>\n",
       "      <td>2017-09</td>\n",
       "      <td>California</td>\n",
       "      <td>57839.0</td>\n",
       "      <td>0.0</td>\n",
       "      <td>37165.0</td>\n",
       "      <td>24581.0</td>\n",
       "      <td>2984.0</td>\n",
       "      <td>0</td>\n",
       "      <td>0.0</td>\n",
       "      <td>0.0</td>\n",
       "      <td>...</td>\n",
       "      <td>0.0</td>\n",
       "      <td>0.0</td>\n",
       "      <td>0.0</td>\n",
       "      <td>0.0</td>\n",
       "      <td>0.0</td>\n",
       "      <td>0.0</td>\n",
       "      <td>0.0</td>\n",
       "      <td>0.0</td>\n",
       "      <td>0.0</td>\n",
       "      <td>123506</td>\n",
       "    </tr>\n",
       "  </tbody>\n",
       "</table>\n",
       "<p>5 rows × 27 columns</p>\n",
       "</div>"
      ],
      "text/plain": [
       "     month       state   permit  permit_recheck  handgun  long_gun   other  \\\n",
       "0  2017-09     Alabama  16717.0             0.0   5734.0    6320.0   221.0   \n",
       "1  2017-09      Alaska    209.0             2.0   2320.0    2930.0   219.0   \n",
       "2  2017-09     Arizona   5069.0           382.0  11063.0    7946.0   920.0   \n",
       "3  2017-09    Arkansas   2935.0           632.0   4347.0    6063.0   165.0   \n",
       "4  2017-09  California  57839.0             0.0  37165.0   24581.0  2984.0   \n",
       "\n",
       "   multiple  admin  prepawn_handgun   ...    returned_other  rentals_handgun  \\\n",
       "0       317    0.0             15.0   ...               0.0              0.0   \n",
       "1       160    0.0              5.0   ...               0.0              0.0   \n",
       "2       631    0.0             13.0   ...               0.0              0.0   \n",
       "3       366   51.0             12.0   ...               0.0              0.0   \n",
       "4         0    0.0              0.0   ...               0.0              0.0   \n",
       "\n",
       "   rentals_long_gun  private_sale_handgun  private_sale_long_gun  \\\n",
       "0               0.0                   9.0                   16.0   \n",
       "1               0.0                  17.0                   24.0   \n",
       "2               0.0                  38.0                   12.0   \n",
       "3               0.0                  13.0                   23.0   \n",
       "4               0.0                   0.0                    0.0   \n",
       "\n",
       "   private_sale_other  return_to_seller_handgun  return_to_seller_long_gun  \\\n",
       "0                 3.0                       0.0                        0.0   \n",
       "1                 1.0                       0.0                        0.0   \n",
       "2                 2.0                       0.0                        0.0   \n",
       "3                 0.0                       0.0                        2.0   \n",
       "4                 0.0                       0.0                        0.0   \n",
       "\n",
       "   return_to_seller_other  totals  \n",
       "0                     3.0   32019  \n",
       "1                     0.0    6303  \n",
       "2                     0.0   28394  \n",
       "3                     1.0   17747  \n",
       "4                     0.0  123506  \n",
       "\n",
       "[5 rows x 27 columns]"
      ]
     },
     "execution_count": 2,
     "metadata": {},
     "output_type": "execute_result"
    }
   ],
   "source": [
    "df_fbi.head()"
   ]
  },
  {
   "cell_type": "code",
   "execution_count": 3,
   "metadata": {},
   "outputs": [
    {
     "data": {
      "text/plain": [
       "(12485, 27)"
      ]
     },
     "execution_count": 3,
     "metadata": {},
     "output_type": "execute_result"
    }
   ],
   "source": [
    "df_fbi.shape"
   ]
  },
  {
   "cell_type": "code",
   "execution_count": 4,
   "metadata": {
    "scrolled": true
   },
   "outputs": [
    {
     "data": {
      "text/plain": [
       "Index(['month', 'state', 'permit', 'permit_recheck', 'handgun', 'long_gun',\n",
       "       'other', 'multiple', 'admin', 'prepawn_handgun', 'prepawn_long_gun',\n",
       "       'prepawn_other', 'redemption_handgun', 'redemption_long_gun',\n",
       "       'redemption_other', 'returned_handgun', 'returned_long_gun',\n",
       "       'returned_other', 'rentals_handgun', 'rentals_long_gun',\n",
       "       'private_sale_handgun', 'private_sale_long_gun', 'private_sale_other',\n",
       "       'return_to_seller_handgun', 'return_to_seller_long_gun',\n",
       "       'return_to_seller_other', 'totals'],\n",
       "      dtype='object')"
      ]
     },
     "execution_count": 4,
     "metadata": {},
     "output_type": "execute_result"
    }
   ],
   "source": [
    "df_fbi.columns"
   ]
  },
  {
   "cell_type": "code",
   "execution_count": 5,
   "metadata": {},
   "outputs": [
    {
     "data": {
      "text/plain": [
       "month                         object\n",
       "state                         object\n",
       "permit                       float64\n",
       "permit_recheck               float64\n",
       "handgun                      float64\n",
       "long_gun                     float64\n",
       "other                        float64\n",
       "multiple                       int64\n",
       "admin                        float64\n",
       "prepawn_handgun              float64\n",
       "prepawn_long_gun             float64\n",
       "prepawn_other                float64\n",
       "redemption_handgun           float64\n",
       "redemption_long_gun          float64\n",
       "redemption_other             float64\n",
       "returned_handgun             float64\n",
       "returned_long_gun            float64\n",
       "returned_other               float64\n",
       "rentals_handgun              float64\n",
       "rentals_long_gun             float64\n",
       "private_sale_handgun         float64\n",
       "private_sale_long_gun        float64\n",
       "private_sale_other           float64\n",
       "return_to_seller_handgun     float64\n",
       "return_to_seller_long_gun    float64\n",
       "return_to_seller_other       float64\n",
       "totals                         int64\n",
       "dtype: object"
      ]
     },
     "execution_count": 5,
     "metadata": {},
     "output_type": "execute_result"
    }
   ],
   "source": [
    "df_fbi.dtypes"
   ]
  },
  {
   "cell_type": "code",
   "execution_count": 6,
   "metadata": {},
   "outputs": [
    {
     "data": {
      "text/plain": [
       "month                            0\n",
       "state                            0\n",
       "permit                          24\n",
       "permit_recheck               11385\n",
       "handgun                         20\n",
       "long_gun                        19\n",
       "other                         6985\n",
       "multiple                         0\n",
       "admin                           23\n",
       "prepawn_handgun               1943\n",
       "prepawn_long_gun              1945\n",
       "prepawn_other                 7370\n",
       "redemption_handgun            1940\n",
       "redemption_long_gun           1941\n",
       "redemption_other              7370\n",
       "returned_handgun             10285\n",
       "returned_long_gun            10340\n",
       "returned_other               10670\n",
       "rentals_handgun              11495\n",
       "rentals_long_gun             11660\n",
       "private_sale_handgun          9735\n",
       "private_sale_long_gun         9735\n",
       "private_sale_other            9735\n",
       "return_to_seller_handgun     10010\n",
       "return_to_seller_long_gun     9735\n",
       "return_to_seller_other       10230\n",
       "totals                           0\n",
       "dtype: int64"
      ]
     },
     "execution_count": 6,
     "metadata": {},
     "output_type": "execute_result"
    }
   ],
   "source": [
    "# Are there any null values in the data?\n",
    "df_fbi.isnull().sum()"
   ]
  },
  {
   "cell_type": "code",
   "execution_count": 7,
   "metadata": {
    "scrolled": true
   },
   "outputs": [
    {
     "data": {
      "text/plain": [
       "55"
      ]
     },
     "execution_count": 7,
     "metadata": {},
     "output_type": "execute_result"
    }
   ],
   "source": [
    "# How many states are included in this data?\n",
    "df_fbi['state'].nunique()"
   ]
  },
  {
   "cell_type": "code",
   "execution_count": 8,
   "metadata": {},
   "outputs": [
    {
     "name": "stdout",
     "output_type": "stream",
     "text": [
      "['Alabama' 'Alaska' 'Arizona' 'Arkansas' 'California' 'Colorado'\n",
      " 'Connecticut' 'Delaware' 'District of Columbia' 'Florida' 'Georgia'\n",
      " 'Guam' 'Hawaii' 'Idaho' 'Illinois' 'Indiana' 'Iowa' 'Kansas' 'Kentucky'\n",
      " 'Louisiana' 'Maine' 'Mariana Islands' 'Maryland' 'Massachusetts'\n",
      " 'Michigan' 'Minnesota' 'Mississippi' 'Missouri' 'Montana' 'Nebraska'\n",
      " 'Nevada' 'New Hampshire' 'New Jersey' 'New Mexico' 'New York'\n",
      " 'North Carolina' 'North Dakota' 'Ohio' 'Oklahoma' 'Oregon' 'Pennsylvania'\n",
      " 'Puerto Rico' 'Rhode Island' 'South Carolina' 'South Dakota' 'Tennessee'\n",
      " 'Texas' 'Utah' 'Vermont' 'Virgin Islands' 'Virginia' 'Washington'\n",
      " 'West Virginia' 'Wisconsin' 'Wyoming']\n"
     ]
    }
   ],
   "source": [
    "# Why are there more than 50 states?\n",
    "# Ans: We can see that the data includes Guam, Puerto Rico, Wash. DC,  the Virgin Islands and the Mariana Islands.\n",
    "states_fbi = df_fbi['state'].unique()\n",
    "print(states_fbi)"
   ]
  },
  {
   "cell_type": "code",
   "execution_count": 9,
   "metadata": {},
   "outputs": [
    {
     "data": {
      "text/plain": [
       "('1998-11', '2017-09')"
      ]
     },
     "execution_count": 9,
     "metadata": {},
     "output_type": "execute_result"
    }
   ],
   "source": [
    "# Let's make sure that the dates are in a workable format and also see the earliest and most recent months.\n",
    "df_fbi['month'].min(), df_fbi['month'].max()"
   ]
  },
  {
   "cell_type": "code",
   "execution_count": 10,
   "metadata": {},
   "outputs": [
    {
     "data": {
      "text/plain": [
       "(12485, 27)"
      ]
     },
     "execution_count": 10,
     "metadata": {},
     "output_type": "execute_result"
    }
   ],
   "source": [
    "df_fbi.shape"
   ]
  },
  {
   "cell_type": "code",
   "execution_count": 11,
   "metadata": {},
   "outputs": [
    {
     "name": "stdout",
     "output_type": "stream",
     "text": [
      "<class 'pandas.core.frame.DataFrame'>\n",
      "RangeIndex: 12485 entries, 0 to 12484\n",
      "Data columns (total 27 columns):\n",
      "month                        12485 non-null object\n",
      "state                        12485 non-null object\n",
      "permit                       12461 non-null float64\n",
      "permit_recheck               1100 non-null float64\n",
      "handgun                      12465 non-null float64\n",
      "long_gun                     12466 non-null float64\n",
      "other                        5500 non-null float64\n",
      "multiple                     12485 non-null int64\n",
      "admin                        12462 non-null float64\n",
      "prepawn_handgun              10542 non-null float64\n",
      "prepawn_long_gun             10540 non-null float64\n",
      "prepawn_other                5115 non-null float64\n",
      "redemption_handgun           10545 non-null float64\n",
      "redemption_long_gun          10544 non-null float64\n",
      "redemption_other             5115 non-null float64\n",
      "returned_handgun             2200 non-null float64\n",
      "returned_long_gun            2145 non-null float64\n",
      "returned_other               1815 non-null float64\n",
      "rentals_handgun              990 non-null float64\n",
      "rentals_long_gun             825 non-null float64\n",
      "private_sale_handgun         2750 non-null float64\n",
      "private_sale_long_gun        2750 non-null float64\n",
      "private_sale_other           2750 non-null float64\n",
      "return_to_seller_handgun     2475 non-null float64\n",
      "return_to_seller_long_gun    2750 non-null float64\n",
      "return_to_seller_other       2255 non-null float64\n",
      "totals                       12485 non-null int64\n",
      "dtypes: float64(23), int64(2), object(2)\n",
      "memory usage: 2.6+ MB\n"
     ]
    }
   ],
   "source": [
    "df_fbi.info()"
   ]
  },
  {
   "cell_type": "markdown",
   "metadata": {},
   "source": [
    "### Cleaning - NICS Data\n",
    "Now that we have an idea of what is in the data let's clean a few items up such as the states that are included and the null values."
   ]
  },
  {
   "cell_type": "code",
   "execution_count": 12,
   "metadata": {},
   "outputs": [],
   "source": [
    "# Let's check what values we need to remove from the 'state' field.\n",
    "\n",
    "fifty_states = df_fbi['state'].unique().tolist()\n",
    "states_to_remove = ['District of Columbia', 'Guam', 'Mariana Islands', 'Puerto Rico', 'Virgin Islands']"
   ]
  },
  {
   "cell_type": "code",
   "execution_count": 13,
   "metadata": {},
   "outputs": [],
   "source": [
    "fifty_states = [i for i in fifty_states if i not in states_to_remove]"
   ]
  },
  {
   "cell_type": "code",
   "execution_count": 14,
   "metadata": {},
   "outputs": [],
   "source": [
    "df_fbi = df_fbi[df_fbi['state'].isin(fifty_states)]"
   ]
  },
  {
   "cell_type": "code",
   "execution_count": 15,
   "metadata": {},
   "outputs": [
    {
     "data": {
      "text/plain": [
       "False    11350\n",
       "Name: permit, dtype: int64"
      ]
     },
     "execution_count": 15,
     "metadata": {},
     "output_type": "execute_result"
    }
   ],
   "source": [
    "df_fbi['permit'].fillna(0, inplace=True)\n",
    "\n",
    "# Let's check to make sure that there are no null values in the 'permit' column.\n",
    "\n",
    "df_fbi['permit'].isnull().value_counts()"
   ]
  },
  {
   "cell_type": "code",
   "execution_count": 16,
   "metadata": {},
   "outputs": [],
   "source": [
    "# Now let's include the year as a separate column so that we can view data on an annual basis.\n",
    "year = df_fbi['month'].str[0:4]"
   ]
  },
  {
   "cell_type": "code",
   "execution_count": 17,
   "metadata": {},
   "outputs": [],
   "source": [
    "# This will add a 'year' column on the right side of our data frame.\n",
    "df_fbi = df_fbi.assign(year=year)"
   ]
  },
  {
   "cell_type": "code",
   "execution_count": 18,
   "metadata": {},
   "outputs": [],
   "source": [
    "Alabama = df_fbi.state == 'Alabama'\n",
    "Alaska = df_fbi.state == 'Alaska'\n",
    "Washington = df_fbi.state == 'Washington'"
   ]
  },
  {
   "cell_type": "markdown",
   "metadata": {},
   "source": [
    "### General Properties - Census Data\n",
    "Next let's now do some work on reviewing, cleaning and organizing the census dataset."
   ]
  },
  {
   "cell_type": "code",
   "execution_count": 19,
   "metadata": {},
   "outputs": [
    {
     "data": {
      "text/html": [
       "<div>\n",
       "<style scoped>\n",
       "    .dataframe tbody tr th:only-of-type {\n",
       "        vertical-align: middle;\n",
       "    }\n",
       "\n",
       "    .dataframe tbody tr th {\n",
       "        vertical-align: top;\n",
       "    }\n",
       "\n",
       "    .dataframe thead th {\n",
       "        text-align: right;\n",
       "    }\n",
       "</style>\n",
       "<table border=\"1\" class=\"dataframe\">\n",
       "  <thead>\n",
       "    <tr style=\"text-align: right;\">\n",
       "      <th></th>\n",
       "      <th>Fact</th>\n",
       "      <th>Fact Note</th>\n",
       "      <th>Alabama</th>\n",
       "      <th>Alaska</th>\n",
       "      <th>Arizona</th>\n",
       "      <th>Arkansas</th>\n",
       "      <th>California</th>\n",
       "      <th>Colorado</th>\n",
       "      <th>Connecticut</th>\n",
       "      <th>Delaware</th>\n",
       "      <th>...</th>\n",
       "      <th>South Dakota</th>\n",
       "      <th>Tennessee</th>\n",
       "      <th>Texas</th>\n",
       "      <th>Utah</th>\n",
       "      <th>Vermont</th>\n",
       "      <th>Virginia</th>\n",
       "      <th>Washington</th>\n",
       "      <th>West Virginia</th>\n",
       "      <th>Wisconsin</th>\n",
       "      <th>Wyoming</th>\n",
       "    </tr>\n",
       "  </thead>\n",
       "  <tbody>\n",
       "    <tr>\n",
       "      <th>0</th>\n",
       "      <td>Population estimates, July 1, 2016,  (V2016)</td>\n",
       "      <td>NaN</td>\n",
       "      <td>4,863,300</td>\n",
       "      <td>741,894</td>\n",
       "      <td>6,931,071</td>\n",
       "      <td>2,988,248</td>\n",
       "      <td>39,250,017</td>\n",
       "      <td>5,540,545</td>\n",
       "      <td>3,576,452</td>\n",
       "      <td>952,065</td>\n",
       "      <td>...</td>\n",
       "      <td>865454</td>\n",
       "      <td>6651194</td>\n",
       "      <td>27,862,596</td>\n",
       "      <td>3,051,217</td>\n",
       "      <td>624,594</td>\n",
       "      <td>8,411,808</td>\n",
       "      <td>7,288,000</td>\n",
       "      <td>1,831,102</td>\n",
       "      <td>5,778,708</td>\n",
       "      <td>585,501</td>\n",
       "    </tr>\n",
       "    <tr>\n",
       "      <th>1</th>\n",
       "      <td>Population estimates base, April 1, 2010,  (V2...</td>\n",
       "      <td>NaN</td>\n",
       "      <td>4,780,131</td>\n",
       "      <td>710,249</td>\n",
       "      <td>6,392,301</td>\n",
       "      <td>2,916,025</td>\n",
       "      <td>37,254,522</td>\n",
       "      <td>5,029,324</td>\n",
       "      <td>3,574,114</td>\n",
       "      <td>897,936</td>\n",
       "      <td>...</td>\n",
       "      <td>814195</td>\n",
       "      <td>6346298</td>\n",
       "      <td>25,146,100</td>\n",
       "      <td>2,763,888</td>\n",
       "      <td>625,741</td>\n",
       "      <td>8,001,041</td>\n",
       "      <td>6,724,545</td>\n",
       "      <td>1,853,011</td>\n",
       "      <td>5,687,289</td>\n",
       "      <td>563,767</td>\n",
       "    </tr>\n",
       "    <tr>\n",
       "      <th>2</th>\n",
       "      <td>Population, percent change - April 1, 2010 (es...</td>\n",
       "      <td>NaN</td>\n",
       "      <td>1.70%</td>\n",
       "      <td>4.50%</td>\n",
       "      <td>8.40%</td>\n",
       "      <td>2.50%</td>\n",
       "      <td>5.40%</td>\n",
       "      <td>10.20%</td>\n",
       "      <td>0.10%</td>\n",
       "      <td>6.00%</td>\n",
       "      <td>...</td>\n",
       "      <td>0.063</td>\n",
       "      <td>0.048</td>\n",
       "      <td>10.80%</td>\n",
       "      <td>10.40%</td>\n",
       "      <td>-0.20%</td>\n",
       "      <td>5.10%</td>\n",
       "      <td>8.40%</td>\n",
       "      <td>-1.20%</td>\n",
       "      <td>1.60%</td>\n",
       "      <td>3.90%</td>\n",
       "    </tr>\n",
       "  </tbody>\n",
       "</table>\n",
       "<p>3 rows × 52 columns</p>\n",
       "</div>"
      ],
      "text/plain": [
       "                                                Fact Fact Note    Alabama  \\\n",
       "0       Population estimates, July 1, 2016,  (V2016)       NaN  4,863,300   \n",
       "1  Population estimates base, April 1, 2010,  (V2...       NaN  4,780,131   \n",
       "2  Population, percent change - April 1, 2010 (es...       NaN      1.70%   \n",
       "\n",
       "    Alaska    Arizona   Arkansas  California   Colorado Connecticut Delaware  \\\n",
       "0  741,894  6,931,071  2,988,248  39,250,017  5,540,545   3,576,452  952,065   \n",
       "1  710,249  6,392,301  2,916,025  37,254,522  5,029,324   3,574,114  897,936   \n",
       "2    4.50%      8.40%      2.50%       5.40%     10.20%       0.10%    6.00%   \n",
       "\n",
       "    ...    South Dakota Tennessee       Texas       Utah  Vermont   Virginia  \\\n",
       "0   ...          865454   6651194  27,862,596  3,051,217  624,594  8,411,808   \n",
       "1   ...          814195   6346298  25,146,100  2,763,888  625,741  8,001,041   \n",
       "2   ...           0.063     0.048      10.80%     10.40%   -0.20%      5.10%   \n",
       "\n",
       "  Washington West Virginia  Wisconsin  Wyoming  \n",
       "0  7,288,000     1,831,102  5,778,708  585,501  \n",
       "1  6,724,545     1,853,011  5,687,289  563,767  \n",
       "2      8.40%        -1.20%      1.60%    3.90%  \n",
       "\n",
       "[3 rows x 52 columns]"
      ]
     },
     "execution_count": 19,
     "metadata": {},
     "output_type": "execute_result"
    }
   ],
   "source": [
    "df_cen.head(3)"
   ]
  },
  {
   "cell_type": "code",
   "execution_count": 20,
   "metadata": {},
   "outputs": [],
   "source": [
    "# If we transpose the data set then it will be easier to read and the state populations for 2010 \n",
    "    # and 2016 will better line up with the NICS data that we have.\n",
    "\n",
    "df_cen = df_cen.transpose()"
   ]
  },
  {
   "cell_type": "code",
   "execution_count": 21,
   "metadata": {},
   "outputs": [
    {
     "data": {
      "text/html": [
       "<div>\n",
       "<style scoped>\n",
       "    .dataframe tbody tr th:only-of-type {\n",
       "        vertical-align: middle;\n",
       "    }\n",
       "\n",
       "    .dataframe tbody tr th {\n",
       "        vertical-align: top;\n",
       "    }\n",
       "\n",
       "    .dataframe thead th {\n",
       "        text-align: right;\n",
       "    }\n",
       "</style>\n",
       "<table border=\"1\" class=\"dataframe\">\n",
       "  <thead>\n",
       "    <tr style=\"text-align: right;\">\n",
       "      <th></th>\n",
       "      <th>0</th>\n",
       "      <th>1</th>\n",
       "      <th>2</th>\n",
       "      <th>3</th>\n",
       "      <th>4</th>\n",
       "      <th>5</th>\n",
       "      <th>6</th>\n",
       "      <th>7</th>\n",
       "      <th>8</th>\n",
       "      <th>9</th>\n",
       "      <th>...</th>\n",
       "      <th>75</th>\n",
       "      <th>76</th>\n",
       "      <th>77</th>\n",
       "      <th>78</th>\n",
       "      <th>79</th>\n",
       "      <th>80</th>\n",
       "      <th>81</th>\n",
       "      <th>82</th>\n",
       "      <th>83</th>\n",
       "      <th>84</th>\n",
       "    </tr>\n",
       "  </thead>\n",
       "  <tbody>\n",
       "    <tr>\n",
       "      <th>Fact</th>\n",
       "      <td>Population estimates, July 1, 2016,  (V2016)</td>\n",
       "      <td>Population estimates base, April 1, 2010,  (V2...</td>\n",
       "      <td>Population, percent change - April 1, 2010 (es...</td>\n",
       "      <td>Population, Census, April 1, 2010</td>\n",
       "      <td>Persons under 5 years, percent, July 1, 2016, ...</td>\n",
       "      <td>Persons under 5 years, percent, April 1, 2010</td>\n",
       "      <td>Persons under 18 years, percent, July 1, 2016,...</td>\n",
       "      <td>Persons under 18 years, percent, April 1, 2010</td>\n",
       "      <td>Persons 65 years and over, percent,  July 1, 2...</td>\n",
       "      <td>Persons 65 years and over, percent, April 1, 2010</td>\n",
       "      <td>...</td>\n",
       "      <td>NaN</td>\n",
       "      <td>Value Flags</td>\n",
       "      <td>-</td>\n",
       "      <td>D</td>\n",
       "      <td>F</td>\n",
       "      <td>FN</td>\n",
       "      <td>NaN</td>\n",
       "      <td>S</td>\n",
       "      <td>X</td>\n",
       "      <td>Z</td>\n",
       "    </tr>\n",
       "    <tr>\n",
       "      <th>Fact Note</th>\n",
       "      <td>NaN</td>\n",
       "      <td>NaN</td>\n",
       "      <td>NaN</td>\n",
       "      <td>NaN</td>\n",
       "      <td>NaN</td>\n",
       "      <td>NaN</td>\n",
       "      <td>NaN</td>\n",
       "      <td>NaN</td>\n",
       "      <td>NaN</td>\n",
       "      <td>NaN</td>\n",
       "      <td>...</td>\n",
       "      <td>NaN</td>\n",
       "      <td>NaN</td>\n",
       "      <td>Either no or too few sample observations were ...</td>\n",
       "      <td>Suppressed to avoid disclosure of confidential...</td>\n",
       "      <td>Fewer than 25 firms</td>\n",
       "      <td>Footnote on this item in place of data</td>\n",
       "      <td>Not available</td>\n",
       "      <td>Suppressed; does not meet publication standards</td>\n",
       "      <td>Not applicable</td>\n",
       "      <td>Value greater than zero but less than half uni...</td>\n",
       "    </tr>\n",
       "    <tr>\n",
       "      <th>Alabama</th>\n",
       "      <td>4,863,300</td>\n",
       "      <td>4,780,131</td>\n",
       "      <td>1.70%</td>\n",
       "      <td>4,779,736</td>\n",
       "      <td>6.00%</td>\n",
       "      <td>6.40%</td>\n",
       "      <td>22.60%</td>\n",
       "      <td>23.70%</td>\n",
       "      <td>16.10%</td>\n",
       "      <td>13.80%</td>\n",
       "      <td>...</td>\n",
       "      <td>NaN</td>\n",
       "      <td>NaN</td>\n",
       "      <td>NaN</td>\n",
       "      <td>NaN</td>\n",
       "      <td>NaN</td>\n",
       "      <td>NaN</td>\n",
       "      <td>NaN</td>\n",
       "      <td>NaN</td>\n",
       "      <td>NaN</td>\n",
       "      <td>NaN</td>\n",
       "    </tr>\n",
       "    <tr>\n",
       "      <th>Alaska</th>\n",
       "      <td>741,894</td>\n",
       "      <td>710,249</td>\n",
       "      <td>4.50%</td>\n",
       "      <td>710,231</td>\n",
       "      <td>7.30%</td>\n",
       "      <td>7.60%</td>\n",
       "      <td>25.20%</td>\n",
       "      <td>26.40%</td>\n",
       "      <td>10.40%</td>\n",
       "      <td>7.70%</td>\n",
       "      <td>...</td>\n",
       "      <td>NaN</td>\n",
       "      <td>NaN</td>\n",
       "      <td>NaN</td>\n",
       "      <td>NaN</td>\n",
       "      <td>NaN</td>\n",
       "      <td>NaN</td>\n",
       "      <td>NaN</td>\n",
       "      <td>NaN</td>\n",
       "      <td>NaN</td>\n",
       "      <td>NaN</td>\n",
       "    </tr>\n",
       "    <tr>\n",
       "      <th>Arizona</th>\n",
       "      <td>6,931,071</td>\n",
       "      <td>6,392,301</td>\n",
       "      <td>8.40%</td>\n",
       "      <td>6,392,017</td>\n",
       "      <td>6.30%</td>\n",
       "      <td>7.10%</td>\n",
       "      <td>23.50%</td>\n",
       "      <td>25.50%</td>\n",
       "      <td>16.90%</td>\n",
       "      <td>13.80%</td>\n",
       "      <td>...</td>\n",
       "      <td>NaN</td>\n",
       "      <td>NaN</td>\n",
       "      <td>NaN</td>\n",
       "      <td>NaN</td>\n",
       "      <td>NaN</td>\n",
       "      <td>NaN</td>\n",
       "      <td>NaN</td>\n",
       "      <td>NaN</td>\n",
       "      <td>NaN</td>\n",
       "      <td>NaN</td>\n",
       "    </tr>\n",
       "  </tbody>\n",
       "</table>\n",
       "<p>5 rows × 85 columns</p>\n",
       "</div>"
      ],
      "text/plain": [
       "                                                     0   \\\n",
       "Fact       Population estimates, July 1, 2016,  (V2016)   \n",
       "Fact Note                                           NaN   \n",
       "Alabama                                       4,863,300   \n",
       "Alaska                                          741,894   \n",
       "Arizona                                       6,931,071   \n",
       "\n",
       "                                                          1   \\\n",
       "Fact       Population estimates base, April 1, 2010,  (V2...   \n",
       "Fact Note                                                NaN   \n",
       "Alabama                                            4,780,131   \n",
       "Alaska                                               710,249   \n",
       "Arizona                                            6,392,301   \n",
       "\n",
       "                                                          2   \\\n",
       "Fact       Population, percent change - April 1, 2010 (es...   \n",
       "Fact Note                                                NaN   \n",
       "Alabama                                                1.70%   \n",
       "Alaska                                                 4.50%   \n",
       "Arizona                                                8.40%   \n",
       "\n",
       "                                          3   \\\n",
       "Fact       Population, Census, April 1, 2010   \n",
       "Fact Note                                NaN   \n",
       "Alabama                            4,779,736   \n",
       "Alaska                               710,231   \n",
       "Arizona                            6,392,017   \n",
       "\n",
       "                                                          4   \\\n",
       "Fact       Persons under 5 years, percent, July 1, 2016, ...   \n",
       "Fact Note                                                NaN   \n",
       "Alabama                                                6.00%   \n",
       "Alaska                                                 7.30%   \n",
       "Arizona                                                6.30%   \n",
       "\n",
       "                                                      5   \\\n",
       "Fact       Persons under 5 years, percent, April 1, 2010   \n",
       "Fact Note                                            NaN   \n",
       "Alabama                                            6.40%   \n",
       "Alaska                                             7.60%   \n",
       "Arizona                                            7.10%   \n",
       "\n",
       "                                                          6   \\\n",
       "Fact       Persons under 18 years, percent, July 1, 2016,...   \n",
       "Fact Note                                                NaN   \n",
       "Alabama                                               22.60%   \n",
       "Alaska                                                25.20%   \n",
       "Arizona                                               23.50%   \n",
       "\n",
       "                                                       7   \\\n",
       "Fact       Persons under 18 years, percent, April 1, 2010   \n",
       "Fact Note                                             NaN   \n",
       "Alabama                                            23.70%   \n",
       "Alaska                                             26.40%   \n",
       "Arizona                                            25.50%   \n",
       "\n",
       "                                                          8   \\\n",
       "Fact       Persons 65 years and over, percent,  July 1, 2...   \n",
       "Fact Note                                                NaN   \n",
       "Alabama                                               16.10%   \n",
       "Alaska                                                10.40%   \n",
       "Arizona                                               16.90%   \n",
       "\n",
       "                                                          9   \\\n",
       "Fact       Persons 65 years and over, percent, April 1, 2010   \n",
       "Fact Note                                                NaN   \n",
       "Alabama                                               13.80%   \n",
       "Alaska                                                 7.70%   \n",
       "Arizona                                               13.80%   \n",
       "\n",
       "                                 ...                           75  \\\n",
       "Fact                             ...                          NaN   \n",
       "Fact Note                        ...                          NaN   \n",
       "Alabama                          ...                          NaN   \n",
       "Alaska                           ...                          NaN   \n",
       "Arizona                          ...                          NaN   \n",
       "\n",
       "                    76                                                 77  \\\n",
       "Fact       Value Flags                                                  -   \n",
       "Fact Note          NaN  Either no or too few sample observations were ...   \n",
       "Alabama            NaN                                                NaN   \n",
       "Alaska             NaN                                                NaN   \n",
       "Arizona            NaN                                                NaN   \n",
       "\n",
       "                                                          78  \\\n",
       "Fact                                                       D   \n",
       "Fact Note  Suppressed to avoid disclosure of confidential...   \n",
       "Alabama                                                  NaN   \n",
       "Alaska                                                   NaN   \n",
       "Arizona                                                  NaN   \n",
       "\n",
       "                            79                                      80  \\\n",
       "Fact                         F                                      FN   \n",
       "Fact Note  Fewer than 25 firms  Footnote on this item in place of data   \n",
       "Alabama                    NaN                                     NaN   \n",
       "Alaska                     NaN                                     NaN   \n",
       "Arizona                    NaN                                     NaN   \n",
       "\n",
       "                      81                                               82  \\\n",
       "Fact                 NaN                                                S   \n",
       "Fact Note  Not available  Suppressed; does not meet publication standards   \n",
       "Alabama              NaN                                              NaN   \n",
       "Alaska               NaN                                              NaN   \n",
       "Arizona              NaN                                              NaN   \n",
       "\n",
       "                       83                                                 84  \n",
       "Fact                    X                                                  Z  \n",
       "Fact Note  Not applicable  Value greater than zero but less than half uni...  \n",
       "Alabama               NaN                                                NaN  \n",
       "Alaska                NaN                                                NaN  \n",
       "Arizona               NaN                                                NaN  \n",
       "\n",
       "[5 rows x 85 columns]"
      ]
     },
     "execution_count": 21,
     "metadata": {},
     "output_type": "execute_result"
    }
   ],
   "source": [
    "df_cen.head()"
   ]
  },
  {
   "cell_type": "code",
   "execution_count": 22,
   "metadata": {},
   "outputs": [],
   "source": [
    "# It will help if we rename the two most critical columns.  Then we can\n",
    "    # create a dataframe that contains only those two columns.\n",
    "\n",
    "df_cen.rename(columns={0: 'pop_est_2016', 1: 'pop_est_2010', 6: 'perc_under_18_2016', 7:\n",
    "                       'perc_under_18_2010'}, inplace=True)"
   ]
  },
  {
   "cell_type": "code",
   "execution_count": 23,
   "metadata": {
    "scrolled": true
   },
   "outputs": [
    {
     "name": "stdout",
     "output_type": "stream",
     "text": [
      "value: 4,863,300 \n",
      " data type: <class 'str'>\n"
     ]
    }
   ],
   "source": [
    "# Let's check to see if the values are correct and to see the data type.\n",
    "alabama_pop_2016 = df_cen['pop_est_2016'].iloc[2]\n",
    "print('value:', alabama_pop_2016, '\\n', 'data type:', type(alabama_pop_2016))"
   ]
  },
  {
   "cell_type": "code",
   "execution_count": 24,
   "metadata": {},
   "outputs": [
    {
     "data": {
      "text/plain": [
       "(52, 85)"
      ]
     },
     "execution_count": 24,
     "metadata": {},
     "output_type": "execute_result"
    }
   ],
   "source": [
    "df_cen.shape"
   ]
  },
  {
   "cell_type": "markdown",
   "metadata": {},
   "source": [
    "### Cleaning - Census Data"
   ]
  },
  {
   "cell_type": "code",
   "execution_count": 25,
   "metadata": {},
   "outputs": [],
   "source": [
    "# There are a couple of rows that we will not be using.\n",
    "\n",
    "df_cen.drop(['Fact', 'Fact Note'], axis=0, inplace=True)"
   ]
  },
  {
   "cell_type": "code",
   "execution_count": 26,
   "metadata": {},
   "outputs": [],
   "source": [
    "df_cen['pop_est_2010'] = df_cen['pop_est_2010'].str.replace(',', '')\n",
    "df_cen['pop_est_2016'] = df_cen['pop_est_2016'].str.replace(',', '')"
   ]
  },
  {
   "cell_type": "code",
   "execution_count": 27,
   "metadata": {},
   "outputs": [],
   "source": [
    "df_cen['pop_est_2010'] = df_cen['pop_est_2010'].astype(int)\n",
    "df_cen['pop_est_2016'] = df_cen['pop_est_2016'].astype(int)"
   ]
  },
  {
   "cell_type": "code",
   "execution_count": 28,
   "metadata": {},
   "outputs": [],
   "source": [
    "df_cen['perc_under_18_2016'] = df_cen['perc_under_18_2016'].str.rstrip('%')\n",
    "df_cen['perc_under_18_2010'] = df_cen['perc_under_18_2010'].str.rstrip('%')"
   ]
  },
  {
   "cell_type": "code",
   "execution_count": 29,
   "metadata": {},
   "outputs": [],
   "source": [
    "df_cen['perc_under_18_2016'] = df_cen['perc_under_18_2016'].astype(float)\n",
    "df_cen['perc_under_18_2010'] = df_cen['perc_under_18_2010'].astype(float)"
   ]
  },
  {
   "cell_type": "code",
   "execution_count": 30,
   "metadata": {},
   "outputs": [],
   "source": [
    "\"\"\"Some of the population percentage values were in a percentage format while others were in a decimal format.  The\n",
    "function below will make sure that they are all in a decimal format between 0.0 and 1.0\"\"\"\n",
    "\n",
    "def reduction(a):\n",
    "    if a > 1:\n",
    "        return a/100\n",
    "    else:\n",
    "        return a\n",
    "\n",
    "df_cen['perc_under_18_2016'] = df_cen['perc_under_18_2016'].apply(reduction)\n",
    "df_cen['perc_under_18_2010'] = df_cen['perc_under_18_2010'].apply(reduction)"
   ]
  },
  {
   "cell_type": "code",
   "execution_count": 31,
   "metadata": {},
   "outputs": [
    {
     "name": "stdout",
     "output_type": "stream",
     "text": [
      "False    50\n",
      "Name: perc_under_18_2016, dtype: int64\n",
      "False    50\n",
      "Name: perc_under_18_2010, dtype: int64\n"
     ]
    }
   ],
   "source": [
    "# Let's check for null values in the percentage columns.  There should not be any.\n",
    "print(df_cen['perc_under_18_2016'].isnull().value_counts())\n",
    "print(df_cen['perc_under_18_2010'].isnull().value_counts())"
   ]
  },
  {
   "cell_type": "code",
   "execution_count": 32,
   "metadata": {},
   "outputs": [
    {
     "data": {
      "text/plain": [
       "pop_est_2016            int64\n",
       "pop_est_2010            int64\n",
       "2                      object\n",
       "3                      object\n",
       "4                      object\n",
       "5                      object\n",
       "perc_under_18_2016    float64\n",
       "perc_under_18_2010    float64\n",
       "8                      object\n",
       "9                      object\n",
       "dtype: object"
      ]
     },
     "execution_count": 32,
     "metadata": {},
     "output_type": "execute_result"
    }
   ],
   "source": [
    "# Let's make sure that the data types for the state populations were updated properly.\n",
    "df_cen.dtypes.iloc[0:10]"
   ]
  },
  {
   "cell_type": "code",
   "execution_count": 33,
   "metadata": {},
   "outputs": [],
   "source": [
    "df_cen['adult_perc_2016'] = 1 - df_cen['perc_under_18_2016']\n",
    "df_cen['adult_perc_2010'] = 1 - df_cen['perc_under_18_2010']\n",
    "\n",
    "# We now need to multiply the population colums with the adult percentage columns to view the adult population.\n",
    "df_cen['adult_pop_2016'] = df_cen['pop_est_2016'] * df_cen['adult_perc_2016']\n",
    "df_cen['adult_pop_2010'] = df_cen['pop_est_2010'] * df_cen['adult_perc_2010']"
   ]
  },
  {
   "cell_type": "code",
   "execution_count": 34,
   "metadata": {},
   "outputs": [
    {
     "data": {
      "text/html": [
       "<div>\n",
       "<style scoped>\n",
       "    .dataframe tbody tr th:only-of-type {\n",
       "        vertical-align: middle;\n",
       "    }\n",
       "\n",
       "    .dataframe tbody tr th {\n",
       "        vertical-align: top;\n",
       "    }\n",
       "\n",
       "    .dataframe thead th {\n",
       "        text-align: right;\n",
       "    }\n",
       "</style>\n",
       "<table border=\"1\" class=\"dataframe\">\n",
       "  <thead>\n",
       "    <tr style=\"text-align: right;\">\n",
       "      <th></th>\n",
       "      <th>pop_est_2016</th>\n",
       "      <th>pop_est_2010</th>\n",
       "      <th>2</th>\n",
       "      <th>3</th>\n",
       "      <th>4</th>\n",
       "      <th>5</th>\n",
       "      <th>perc_under_18_2016</th>\n",
       "      <th>perc_under_18_2010</th>\n",
       "      <th>8</th>\n",
       "      <th>9</th>\n",
       "      <th>...</th>\n",
       "      <th>79</th>\n",
       "      <th>80</th>\n",
       "      <th>81</th>\n",
       "      <th>82</th>\n",
       "      <th>83</th>\n",
       "      <th>84</th>\n",
       "      <th>adult_perc_2016</th>\n",
       "      <th>adult_perc_2010</th>\n",
       "      <th>adult_pop_2016</th>\n",
       "      <th>adult_pop_2010</th>\n",
       "    </tr>\n",
       "  </thead>\n",
       "  <tbody>\n",
       "    <tr>\n",
       "      <th>Alabama</th>\n",
       "      <td>4863300</td>\n",
       "      <td>4780131</td>\n",
       "      <td>1.70%</td>\n",
       "      <td>4,779,736</td>\n",
       "      <td>6.00%</td>\n",
       "      <td>6.40%</td>\n",
       "      <td>0.226</td>\n",
       "      <td>0.237</td>\n",
       "      <td>16.10%</td>\n",
       "      <td>13.80%</td>\n",
       "      <td>...</td>\n",
       "      <td>NaN</td>\n",
       "      <td>NaN</td>\n",
       "      <td>NaN</td>\n",
       "      <td>NaN</td>\n",
       "      <td>NaN</td>\n",
       "      <td>NaN</td>\n",
       "      <td>0.774</td>\n",
       "      <td>0.763</td>\n",
       "      <td>3.764194e+06</td>\n",
       "      <td>3.647240e+06</td>\n",
       "    </tr>\n",
       "    <tr>\n",
       "      <th>Alaska</th>\n",
       "      <td>741894</td>\n",
       "      <td>710249</td>\n",
       "      <td>4.50%</td>\n",
       "      <td>710,231</td>\n",
       "      <td>7.30%</td>\n",
       "      <td>7.60%</td>\n",
       "      <td>0.252</td>\n",
       "      <td>0.264</td>\n",
       "      <td>10.40%</td>\n",
       "      <td>7.70%</td>\n",
       "      <td>...</td>\n",
       "      <td>NaN</td>\n",
       "      <td>NaN</td>\n",
       "      <td>NaN</td>\n",
       "      <td>NaN</td>\n",
       "      <td>NaN</td>\n",
       "      <td>NaN</td>\n",
       "      <td>0.748</td>\n",
       "      <td>0.736</td>\n",
       "      <td>5.549367e+05</td>\n",
       "      <td>5.227433e+05</td>\n",
       "    </tr>\n",
       "    <tr>\n",
       "      <th>Arizona</th>\n",
       "      <td>6931071</td>\n",
       "      <td>6392301</td>\n",
       "      <td>8.40%</td>\n",
       "      <td>6,392,017</td>\n",
       "      <td>6.30%</td>\n",
       "      <td>7.10%</td>\n",
       "      <td>0.235</td>\n",
       "      <td>0.255</td>\n",
       "      <td>16.90%</td>\n",
       "      <td>13.80%</td>\n",
       "      <td>...</td>\n",
       "      <td>NaN</td>\n",
       "      <td>NaN</td>\n",
       "      <td>NaN</td>\n",
       "      <td>NaN</td>\n",
       "      <td>NaN</td>\n",
       "      <td>NaN</td>\n",
       "      <td>0.765</td>\n",
       "      <td>0.745</td>\n",
       "      <td>5.302269e+06</td>\n",
       "      <td>4.762264e+06</td>\n",
       "    </tr>\n",
       "    <tr>\n",
       "      <th>Arkansas</th>\n",
       "      <td>2988248</td>\n",
       "      <td>2916025</td>\n",
       "      <td>2.50%</td>\n",
       "      <td>2,915,918</td>\n",
       "      <td>6.40%</td>\n",
       "      <td>6.80%</td>\n",
       "      <td>0.236</td>\n",
       "      <td>0.244</td>\n",
       "      <td>16.30%</td>\n",
       "      <td>14.40%</td>\n",
       "      <td>...</td>\n",
       "      <td>NaN</td>\n",
       "      <td>NaN</td>\n",
       "      <td>NaN</td>\n",
       "      <td>NaN</td>\n",
       "      <td>NaN</td>\n",
       "      <td>NaN</td>\n",
       "      <td>0.764</td>\n",
       "      <td>0.756</td>\n",
       "      <td>2.283021e+06</td>\n",
       "      <td>2.204515e+06</td>\n",
       "    </tr>\n",
       "    <tr>\n",
       "      <th>California</th>\n",
       "      <td>39250017</td>\n",
       "      <td>37254522</td>\n",
       "      <td>5.40%</td>\n",
       "      <td>37,253,956</td>\n",
       "      <td>6.30%</td>\n",
       "      <td>6.80%</td>\n",
       "      <td>0.232</td>\n",
       "      <td>0.250</td>\n",
       "      <td>13.60%</td>\n",
       "      <td>11.40%</td>\n",
       "      <td>...</td>\n",
       "      <td>NaN</td>\n",
       "      <td>NaN</td>\n",
       "      <td>NaN</td>\n",
       "      <td>NaN</td>\n",
       "      <td>NaN</td>\n",
       "      <td>NaN</td>\n",
       "      <td>0.768</td>\n",
       "      <td>0.750</td>\n",
       "      <td>3.014401e+07</td>\n",
       "      <td>2.794089e+07</td>\n",
       "    </tr>\n",
       "  </tbody>\n",
       "</table>\n",
       "<p>5 rows × 89 columns</p>\n",
       "</div>"
      ],
      "text/plain": [
       "            pop_est_2016  pop_est_2010      2           3      4      5  \\\n",
       "Alabama          4863300       4780131  1.70%   4,779,736  6.00%  6.40%   \n",
       "Alaska            741894        710249  4.50%     710,231  7.30%  7.60%   \n",
       "Arizona          6931071       6392301  8.40%   6,392,017  6.30%  7.10%   \n",
       "Arkansas         2988248       2916025  2.50%   2,915,918  6.40%  6.80%   \n",
       "California      39250017      37254522  5.40%  37,253,956  6.30%  6.80%   \n",
       "\n",
       "            perc_under_18_2016  perc_under_18_2010       8       9  \\\n",
       "Alabama                  0.226               0.237  16.10%  13.80%   \n",
       "Alaska                   0.252               0.264  10.40%   7.70%   \n",
       "Arizona                  0.235               0.255  16.90%  13.80%   \n",
       "Arkansas                 0.236               0.244  16.30%  14.40%   \n",
       "California               0.232               0.250  13.60%  11.40%   \n",
       "\n",
       "                ...         79   80   81   82   83   84 adult_perc_2016  \\\n",
       "Alabama         ...        NaN  NaN  NaN  NaN  NaN  NaN           0.774   \n",
       "Alaska          ...        NaN  NaN  NaN  NaN  NaN  NaN           0.748   \n",
       "Arizona         ...        NaN  NaN  NaN  NaN  NaN  NaN           0.765   \n",
       "Arkansas        ...        NaN  NaN  NaN  NaN  NaN  NaN           0.764   \n",
       "California      ...        NaN  NaN  NaN  NaN  NaN  NaN           0.768   \n",
       "\n",
       "           adult_perc_2010 adult_pop_2016 adult_pop_2010  \n",
       "Alabama              0.763   3.764194e+06   3.647240e+06  \n",
       "Alaska               0.736   5.549367e+05   5.227433e+05  \n",
       "Arizona              0.745   5.302269e+06   4.762264e+06  \n",
       "Arkansas             0.756   2.283021e+06   2.204515e+06  \n",
       "California           0.750   3.014401e+07   2.794089e+07  \n",
       "\n",
       "[5 rows x 89 columns]"
      ]
     },
     "execution_count": 34,
     "metadata": {},
     "output_type": "execute_result"
    }
   ],
   "source": [
    "df_cen.head()"
   ]
  },
  {
   "cell_type": "code",
   "execution_count": 35,
   "metadata": {
    "scrolled": true
   },
   "outputs": [
    {
     "name": "stdout",
     "output_type": "stream",
     "text": [
      "[4780131, 710249, 6392301, 2916025, 37254522, 5029324] \n",
      "\n",
      "Index(['Alabama', 'Alaska', 'Arizona', 'Arkansas', 'California', 'Colorado'], dtype='object') \n",
      "\n",
      "largest state pop: 37254522\n",
      "smallest state pop: 563767\n"
     ]
    }
   ],
   "source": [
    "\"\"\"Let's make sure that the states and their populations are appearing as they should.  We'll also set up an\n",
    "index of the first six states on the list to make a graph next.\"\"\"\n",
    "\n",
    "state_pop_2010 = list(df_cen['pop_est_2010'].iloc[0:6])\n",
    "print(state_pop_2010, '\\n')\n",
    "\n",
    "states_cen = df_cen.index\n",
    "first_6_states = df_cen.index[0:6]\n",
    "print(first_6_states, '\\n')\n",
    "\n",
    "max_pop = df_cen['pop_est_2010'].max()\n",
    "print('largest state pop:', max_pop)\n",
    "\n",
    "min_pop = df_cen['pop_est_2010'].min()\n",
    "print('smallest state pop:', min_pop)"
   ]
  },
  {
   "cell_type": "code",
   "execution_count": 36,
   "metadata": {},
   "outputs": [
    {
     "data": {
      "text/plain": [
       "Text(0, 0.5, 'Population in Tens of Millions')"
      ]
     },
     "execution_count": 36,
     "metadata": {},
     "output_type": "execute_result"
    },
    {
     "data": {
      "image/png": "[encoded data removed]",
      "text/plain": [
       "<Figure size 432x288 with 1 Axes>"
      ]
     },
     "metadata": {
      "needs_background": "light"
     },
     "output_type": "display_data"
    }
   ],
   "source": [
    "# Let's also setup a bar graph with a few state populations as a test.\n",
    "\n",
    "x = [2, 4, 6, 8, 10, 12]\n",
    "\n",
    "plt.bar(x, state_pop_2010, align='center', tick_label=first_6_states)\n",
    "plt.title('Population of Six States')\n",
    "plt.xlabel('State')\n",
    "plt.ylabel('Population in Tens of Millions')\n"
   ]
  },
  {
   "cell_type": "markdown",
   "metadata": {},
   "source": [
    "<a id='eda'></a>\n",
    "## Exploratory Data Analysis\n",
    "\n",
    "### Research Question 1: Which states showed the highest growth in handgun checks over a ten year period?  Can we suggest any reasons for these increases?"
   ]
  },
  {
   "cell_type": "markdown",
   "metadata": {},
   "source": [
    "Before we dive in, let's take a look at a histogram of the monthly handgun check data for all states and also for the first two states on the list.  That will give us a general idea of the number of monthly checks."
   ]
  },
  {
   "cell_type": "code",
   "execution_count": 37,
   "metadata": {},
   "outputs": [
    {
     "data": {
      "text/plain": [
       "Text(0, 0.5, 'Number of Months in Each Group')"
      ]
     },
     "execution_count": 37,
     "metadata": {},
     "output_type": "execute_result"
    },
    {
     "data": {
      "image/png": "[encoded data removed]",
      "text/plain": [
       "<Figure size 432x288 with 1 Axes>"
      ]
     },
     "metadata": {
      "needs_background": "light"
     },
     "output_type": "display_data"
    }
   ],
   "source": [
    "bins = [0, 5000, 10000, 15000, 20000, 25000, 30000, 35000, 40000, 45000, 50000, 55000]\n",
    "df_fbi.handgun.hist(bins=bins)\n",
    "plt.title('Handgun Checks - All Fifty States')\n",
    "plt.xlabel('Total Monthly Handgun Checks \\n (Group Increments by 5,000)')\n",
    "plt.ylabel('Number of Months in Each Group')"
   ]
  },
  {
   "cell_type": "code",
   "execution_count": 38,
   "metadata": {},
   "outputs": [
    {
     "data": {
      "text/plain": [
       "Text(0, 0.5, 'Number of Months in Each Group')"
      ]
     },
     "execution_count": 38,
     "metadata": {},
     "output_type": "execute_result"
    },
    {
     "data": {
      "image/png": "[encoded data removed]",
      "text/plain": [
       "<Figure size 432x288 with 1 Axes>"
      ]
     },
     "metadata": {
      "needs_background": "light"
     },
     "output_type": "display_data"
    }
   ],
   "source": [
    "bins = [0, 5000, 10000, 15000, 20000, 25000, 30000, 35000, 40000, 45000, 50000]\n",
    "df_fbi.handgun[Alabama].hist(bins=bins)\n",
    "plt.title('Handgun Checks - Alabama')\n",
    "plt.xlabel('Total Monthly Handgun Checks \\n (Group Increments by 5,000)')\n",
    "plt.ylabel('Number of Months in Each Group')"
   ]
  },
  {
   "cell_type": "code",
   "execution_count": 40,
   "metadata": {},
   "outputs": [
    {
     "data": {
      "text/plain": [
       "Text(0, 0.5, 'Number of Months in Each Group')"
      ]
     },
     "execution_count": 40,
     "metadata": {},
     "output_type": "execute_result"
    },
    {
     "data": {
      "image/png": "[encoded data removed]",
      "text/plain": [
       "<Figure size 432x288 with 1 Axes>"
      ]
     },
     "metadata": {
      "needs_background": "light"
     },
     "output_type": "display_data"
    }
   ],
   "source": [
    "bins = [0, 500, 1000, 1500, 2000, 2500, 3000, 3500, 4000, 4500, 5000, 5500]\n",
    "df_fbi.handgun[Alaska].hist(bins=bins)\n",
    "plt.title('Handgun Checks - Alaska')\n",
    "plt.xlabel('Total Monthly Handgun Checks \\n (Group Increments by 500)')\n",
    "plt.ylabel('Number of Months in Each Group')"
   ]
  },
  {
   "cell_type": "markdown",
   "metadata": {},
   "source": [
    "There were usually fewer than 10,000 checks per month in each state but a in some states there were months when the total far exceeded that number.\n",
    "A look at the handgun checks for Alabama shows that most monhts had between 5,000 and 15,000 NICS approvals.\n",
    "A look at the handgun checks for Alaska shows that most monhts had between 500 and 3,500 NICS approvals."
   ]
  },
  {
   "cell_type": "code",
   "execution_count": 41,
   "metadata": {},
   "outputs": [],
   "source": [
    "# Next let's look at the states with the largest increase in permits nominal terms for a given year or in total.\n",
    "\n",
    "NICS_totals = df_fbi.groupby('state')['totals'].sum()\n",
    "handgun_totals = df_fbi.groupby('state')['handgun'].sum()\n",
    "handgun_percentage = ((handgun_totals / NICS_totals).round(3))*100"
   ]
  },
  {
   "cell_type": "code",
   "execution_count": 42,
   "metadata": {},
   "outputs": [],
   "source": [
    "# What ten states have seen largest percentage increase in approved background checks for handgun purchases  \n",
    "#    from the year 2007 to 2016?\n",
    "\n",
    "ten_years = [2007, 2008, 2009, 2010, 2011, 2012, 2013, 2014, 2015, 2016]\n",
    "\n",
    "handgun_per_yr = df_fbi.groupby(['year', 'state'])['handgun'].sum()\n",
    "handgun_2007 = handgun_per_yr['2007']\n",
    "handgun_2008 = handgun_per_yr['2008']\n",
    "handgun_2009 = handgun_per_yr['2009']\n",
    "handgun_2010 = handgun_per_yr['2010']\n",
    "handgun_2011 = handgun_per_yr['2011']\n",
    "handgun_2012 = handgun_per_yr['2012']\n",
    "handgun_2013 = handgun_per_yr['2013']\n",
    "handgun_2014 = handgun_per_yr['2014']\n",
    "handgun_2015 = handgun_per_yr['2015']\n",
    "handgun_2016 = handgun_per_yr['2016']\n",
    "handgun_increase = handgun_2016 - handgun_2007"
   ]
  },
  {
   "cell_type": "code",
   "execution_count": 43,
   "metadata": {},
   "outputs": [],
   "source": [
    "handgun_perc_incr = ((handgun_increase / handgun_2007)*100).round(2)\n",
    "\n",
    "# It looks like we are going to have to strip out PA due to the way that they classify handguns and long guns.\n",
    "#    Specifically, there appears to have been a major classification change in late 2013 or early 2014.\n",
    "\n",
    "# In the data cleaning phase we stripped out non-US states since their relatively low number of permits makes \n",
    "#    it so that small change in absolute number of permits has a major impact on percentage changes.\n",
    "\n",
    "# Next we need to work on a top 10 or 12 list."
   ]
  },
  {
   "cell_type": "code",
   "execution_count": 44,
   "metadata": {},
   "outputs": [],
   "source": [
    "top_11_handgun = handgun_perc_incr.nlargest(11)\n",
    "top_10_handgun = top_11_handgun.drop('Pennsylvania')"
   ]
  },
  {
   "cell_type": "code",
   "execution_count": 45,
   "metadata": {},
   "outputs": [
    {
     "name": "stdout",
     "output_type": "stream",
     "text": [
      "state\n",
      "Nebraska          15509.09\n",
      "Iowa               1107.79\n",
      "Michigan            569.72\n",
      "North Carolina      535.82\n",
      "Illinois            447.44\n",
      "Wisconsin           327.78\n",
      "New Jersey          325.62\n",
      "Connecticut         308.04\n",
      "Delaware            305.94\n",
      "Indiana             273.17\n",
      "Name: handgun, dtype: float64\n"
     ]
    }
   ],
   "source": [
    "print(top_10_handgun)"
   ]
  },
  {
   "cell_type": "code",
   "execution_count": 46,
   "metadata": {},
   "outputs": [],
   "source": [
    "\"\"\"The following function will make a list for any given state to show the number of NICS handgun permits each year\n",
    "over a ten-year period.\"\"\"\n",
    "\n",
    "def state_handguns(a):\n",
    "    b = []\n",
    "    i = 2007\n",
    "    while i < 2017:\n",
    "        i = str(i)\n",
    "        b.append(handgun_per_yr[i][a])\n",
    "        i = int(i)\n",
    "        i += 1\n",
    "    return(b)\n",
    "\n",
    "NE = state_handguns('Nebraska')\n",
    "IA = state_handguns('Iowa')\n",
    "MI = state_handguns(top_10_handgun.index[2])\n",
    "NC = state_handguns(top_10_handgun.index[3])\n",
    "IL = state_handguns(top_10_handgun.index[4])\n",
    "WI = state_handguns(top_10_handgun.index[5])\n",
    "NJ = state_handguns(top_10_handgun.index[6])\n",
    "CT = state_handguns(top_10_handgun.index[7])\n",
    "DE = state_handguns(top_10_handgun.index[8])\n",
    "IN = state_handguns(top_10_handgun.index[9])\n"
   ]
  },
  {
   "cell_type": "code",
   "execution_count": 47,
   "metadata": {},
   "outputs": [
    {
     "data": {
      "text/plain": [
       "Text(0, 0.5, 'Number of Handgun\\nPermits Granted via NICS')"
      ]
     },
     "execution_count": 47,
     "metadata": {},
     "output_type": "execute_result"
    },
    {
     "data": {
      "image/png": "[encoded data removed]",
      "text/plain": [
       "<Figure size 432x288 with 1 Axes>"
      ]
     },
     "metadata": {
      "needs_background": "light"
     },
     "output_type": "display_data"
    }
   ],
   "source": [
    "\"\"\"The information above looks really interesting.  Let's graph some of these states to see when the \n",
    "increases occurred.  In cases where the scaling is similar, states will be graphed togeher rather than separately.\"\"\"\n",
    "\n",
    "plt.plot(ten_years, NE, label='Nebraska')\n",
    "plt.title('NICS Handgun Approvals - Nebraska')\n",
    "plt.xlabel('Year')\n",
    "plt.ylabel('Number of Handgun\\n' 'Permits Granted via NICS')"
   ]
  },
  {
   "cell_type": "code",
   "execution_count": 48,
   "metadata": {},
   "outputs": [
    {
     "data": {
      "text/plain": [
       "Text(0, 0.5, 'Number of Handgun\\nPermits Granted via NICS')"
      ]
     },
     "execution_count": 48,
     "metadata": {},
     "output_type": "execute_result"
    },
    {
     "data": {
      "image/png": "[encoded data removed]",
      "text/plain": [
       "<Figure size 432x288 with 1 Axes>"
      ]
     },
     "metadata": {
      "needs_background": "light"
     },
     "output_type": "display_data"
    }
   ],
   "source": [
    "plt.plot(ten_years, IA, label='Iowa')\n",
    "plt.title('NICS Handgun Approvals - Iowa')\n",
    "plt.xlabel('Year')\n",
    "plt.ylabel('Number of Handgun\\n' 'Permits Granted via NICS')"
   ]
  },
  {
   "cell_type": "code",
   "execution_count": 49,
   "metadata": {},
   "outputs": [
    {
     "data": {
      "text/plain": [
       "<matplotlib.legend.Legend at 0x11da23748>"
      ]
     },
     "execution_count": 49,
     "metadata": {},
     "output_type": "execute_result"
    },
    {
     "data": {
      "image/png": "[encoded data removed]",
      "text/plain": [
       "<Figure size 432x288 with 1 Axes>"
      ]
     },
     "metadata": {
      "needs_background": "light"
     },
     "output_type": "display_data"
    }
   ],
   "source": [
    "plt.plot(ten_years, MI, label='Michigan')\n",
    "plt.plot(ten_years, WI, label='Wisconsin')\n",
    "plt.plot(ten_years, CT, label='Connecticut')\n",
    "plt.title('NICS Handgun Approvals - Michigan, \\n' 'Wisconsin and Connecticut')\n",
    "plt.xlabel('Year')\n",
    "plt.ylabel('Number of Handgun\\n' 'Permits Granted via NICS')\n",
    "plt.legend()"
   ]
  },
  {
   "cell_type": "code",
   "execution_count": 50,
   "metadata": {},
   "outputs": [
    {
     "data": {
      "text/plain": [
       "Text(0, 0.5, 'Number of Handgun\\nPermits Granted via NICS')"
      ]
     },
     "execution_count": 50,
     "metadata": {},
     "output_type": "execute_result"
    },
    {
     "data": {
      "image/png": "[encoded data removed]",
      "text/plain": [
       "<Figure size 432x288 with 1 Axes>"
      ]
     },
     "metadata": {
      "needs_background": "light"
     },
     "output_type": "display_data"
    }
   ],
   "source": [
    "plt.plot(ten_years, NC)\n",
    "plt.title('NICS Handgun Approvals - North Carolina')\n",
    "plt.xlabel('Year')\n",
    "plt.ylabel('Number of Handgun\\n' 'Permits Granted via NICS')"
   ]
  },
  {
   "cell_type": "code",
   "execution_count": 51,
   "metadata": {},
   "outputs": [
    {
     "data": {
      "text/plain": [
       "<matplotlib.legend.Legend at 0x11d747198>"
      ]
     },
     "execution_count": 51,
     "metadata": {},
     "output_type": "execute_result"
    },
    {
     "data": {
      "image/png": "[encoded data removed]",
      "text/plain": [
       "<Figure size 432x288 with 1 Axes>"
      ]
     },
     "metadata": {
      "needs_background": "light"
     },
     "output_type": "display_data"
    }
   ],
   "source": [
    "plt.plot(ten_years, IL, label='Illinois')\n",
    "plt.plot(ten_years, IN, label='Indiana')\n",
    "plt.title('NICS Handgun Approvals - Illinois and Indiana')\n",
    "plt.xlabel('Year')\n",
    "plt.ylabel('Number of Handgun\\n' 'Permits Granted via NICS')\n",
    "plt.legend()"
   ]
  },
  {
   "cell_type": "code",
   "execution_count": 52,
   "metadata": {},
   "outputs": [
    {
     "data": {
      "text/plain": [
       "Text(0, 0.5, 'Number of Handgun\\nPermits Granted via NICS')"
      ]
     },
     "execution_count": 52,
     "metadata": {},
     "output_type": "execute_result"
    },
    {
     "data": {
      "image/png": "[encoded data removed]",
      "text/plain": [
       "<Figure size 432x288 with 1 Axes>"
      ]
     },
     "metadata": {
      "needs_background": "light"
     },
     "output_type": "display_data"
    }
   ],
   "source": [
    "plt.plot(ten_years, NJ)\n",
    "plt.title('NICS Handgun Approvals - New Jersey')\n",
    "plt.xlabel('Year')\n",
    "plt.ylabel('Number of Handgun\\n' 'Permits Granted via NICS')"
   ]
  },
  {
   "cell_type": "code",
   "execution_count": 53,
   "metadata": {},
   "outputs": [
    {
     "data": {
      "text/plain": [
       "Text(0, 0.5, 'Number of Handgun\\nPermits Granted via NICS')"
      ]
     },
     "execution_count": 53,
     "metadata": {},
     "output_type": "execute_result"
    },
    {
     "data": {
      "image/png": "[encoded data removed]",
      "text/plain": [
       "<Figure size 432x288 with 1 Axes>"
      ]
     },
     "metadata": {
      "needs_background": "light"
     },
     "output_type": "display_data"
    }
   ],
   "source": [
    "plt.plot(ten_years, DE)\n",
    "plt.title('NICS Handgun Approvals - Delaware')\n",
    "plt.xlabel('Year')\n",
    "plt.ylabel('Number of Handgun\\n' 'Permits Granted via NICS')"
   ]
  },
  {
   "cell_type": "markdown",
   "metadata": {},
   "source": [
    "**Observation:**  In the graphs above we can see that in certain cases, such as Michigan and Wisconsin, that the jump in NICS handgun checks in the 2010 and 2012 periods, respectively, was more likely due to changes in firearm classification than in actual increases in handgun checks.  In other states where there is a more steady increase over the ten-year period it is more plausible that there was indeed a major increase in phone calls to the NICS to approve handguns purchases."
   ]
  },
  {
   "cell_type": "markdown",
   "metadata": {},
   "source": [
    "### Research Question 2: What trends can we observe in terms of total NICS checks and per capita approvals?  Are there particular states that show large increases in checks on a per capita basis?\n",
    "\n",
    "Now that we have analyzed handgun permits we can see that those figures were impacted by how permits were classified.  It would be helpful to view per capita figures for all NICS checks, the 'totals' column, in order to get a better sense of what the grow trend was.  We will look at 2010 and 2016 since those are the two years for which we have population data.  We will look at the totals on an absolute basis and also on a per capita basis."
   ]
  },
  {
   "cell_type": "code",
   "execution_count": 54,
   "metadata": {},
   "outputs": [],
   "source": [
    "adult_pop_2016 = df_cen['adult_pop_2016']\n",
    "adult_pop_2010 = df_cen['adult_pop_2010']\n",
    "populations = pd.concat([adult_pop_2016, adult_pop_2010], axis=1)"
   ]
  },
  {
   "cell_type": "code",
   "execution_count": 55,
   "metadata": {},
   "outputs": [
    {
     "name": "stdout",
     "output_type": "stream",
     "text": [
      "(50, 2)\n",
      "adult_pop_2016    float64\n",
      "adult_pop_2010    float64\n",
      "dtype: object\n"
     ]
    }
   ],
   "source": [
    "print(populations.shape)\n",
    "print(populations.dtypes)"
   ]
  },
  {
   "cell_type": "code",
   "execution_count": 56,
   "metadata": {},
   "outputs": [
    {
     "data": {
      "text/plain": [
       "(11350,)"
      ]
     },
     "execution_count": 56,
     "metadata": {},
     "output_type": "execute_result"
    }
   ],
   "source": [
    "df_fbi['totals'].shape"
   ]
  },
  {
   "cell_type": "code",
   "execution_count": 57,
   "metadata": {},
   "outputs": [],
   "source": [
    "total_2007 = df_fbi['year'] == '2007'\n",
    "total_2008 = df_fbi['year'] == '2008'\n",
    "total_2009 = df_fbi['year'] == '2009'\n",
    "total_2010 = df_fbi['year'] == '2010'\n",
    "total_2011 = df_fbi['year'] == '2011'\n",
    "total_2012 = df_fbi['year'] == '2012'\n",
    "total_2013 = df_fbi['year'] == '2013'\n",
    "total_2014 = df_fbi['year'] == '2014'\n",
    "total_2015 = df_fbi['year'] == '2015'\n",
    "total_2016 = df_fbi['year'] == '2016'"
   ]
  },
  {
   "cell_type": "code",
   "execution_count": 58,
   "metadata": {},
   "outputs": [],
   "source": [
    "totals_2007_to_2016 = [df_fbi.totals[total_2007].sum(), df_fbi.totals[total_2008].sum(), \\\n",
    "                        df_fbi.totals[total_2009].sum(), df_fbi.totals[total_2010].sum(), \\\n",
    "                        df_fbi.totals[total_2011].sum(), df_fbi.totals[total_2012].sum(), \\\n",
    "                        df_fbi.totals[total_2013].sum(), df_fbi.totals[total_2014].sum(), \\\n",
    "                        df_fbi.totals[total_2015].sum(), df_fbi.totals[total_2016].sum()]"
   ]
  },
  {
   "cell_type": "code",
   "execution_count": 59,
   "metadata": {},
   "outputs": [
    {
     "name": "stdout",
     "output_type": "stream",
     "text": [
      "[11151998, 12684240, 13974323, 14309926, 16323039, 19446504, 20946761, 20840268, 23006228, 27405549]\n"
     ]
    }
   ],
   "source": [
    "print(totals_2007_to_2016)"
   ]
  },
  {
   "cell_type": "code",
   "execution_count": 60,
   "metadata": {},
   "outputs": [
    {
     "data": {
      "text/plain": [
       "Text(0, 0.5, 'Total NICS Calls, \\n in Tens of Millions')"
      ]
     },
     "execution_count": 60,
     "metadata": {},
     "output_type": "execute_result"
    },
    {
     "data": {
      "image/png": "[encoded data removed]",
      "text/plain": [
       "<Figure size 432x288 with 1 Axes>"
      ]
     },
     "metadata": {
      "needs_background": "light"
     },
     "output_type": "display_data"
    }
   ],
   "source": [
    "plt.plot(ten_years, totals_2007_to_2016)\n",
    "plt.title('Total Checks Annually')\n",
    "plt.xlabel('Year')\n",
    "plt.ylabel('Total NICS Calls, \\n in Tens of Millions')"
   ]
  },
  {
   "cell_type": "code",
   "execution_count": 61,
   "metadata": {},
   "outputs": [],
   "source": [
    "annual_check_incr = ((df_fbi.totals[total_2016].sum() / df_fbi.totals[total_2007].sum())**(1/9) - 1)*100"
   ]
  },
  {
   "cell_type": "code",
   "execution_count": 62,
   "metadata": {},
   "outputs": [
    {
     "name": "stdout",
     "output_type": "stream",
     "text": [
      "The line on the chart looks quite steep but it is important to remember that this represents an annualized increase of approximately 10.5 %.\n"
     ]
    }
   ],
   "source": [
    "print('The line on the chart looks quite steep but it is important to remember that this represents an annualized \\\n",
    "increase of approximately', round(annual_check_incr, 1), '%.')"
   ]
  },
  {
   "cell_type": "markdown",
   "metadata": {},
   "source": [
    "Next let's look at permits per capita in 4 states that have a high population and substantially different regulations pertaining to gun laws.  We will look at CA, FL, NY and TX.  I would like to know if the trends are similar or substantially different.  We will have to graph them on separate graphs since the scales are different."
   ]
  },
  {
   "cell_type": "code",
   "execution_count": 63,
   "metadata": {},
   "outputs": [],
   "source": [
    "\"\"\"This fuction will allow us to show the total number of checks made in a given state over a ten year period.\"\"\"\n",
    "\n",
    "check_per_yr = df_fbi.groupby(['year', 'state'])['totals'].sum()\n",
    "\n",
    "def state_totals(a):\n",
    "    c = []\n",
    "    i = 2007\n",
    "    while i < 2017:\n",
    "        i = str(i)\n",
    "        c.append(check_per_yr[i][a])\n",
    "        i = int(i)\n",
    "        i += 1\n",
    "    return c"
   ]
  },
  {
   "cell_type": "code",
   "execution_count": 64,
   "metadata": {},
   "outputs": [],
   "source": [
    "CA_totals = state_totals('California')\n",
    "FL_totals = state_totals('Florida')\n",
    "NY_totals = state_totals('New York')\n",
    "TX_totals = state_totals('Texas')"
   ]
  },
  {
   "cell_type": "code",
   "execution_count": 65,
   "metadata": {},
   "outputs": [
    {
     "name": "stdout",
     "output_type": "stream",
     "text": [
      "[855943, 780398, 788164, 816399, 905701, 1132603, 1368295, 1474616, 1761079, 2377167] \n",
      " [426180, 503672, 556540, 559347, 643229, 834319, 1073859, 1034546, 1147082, 1435340] \n",
      " [212174, 221920, 241165, 241495, 271837, 338619, 353064, 365427, 346048, 404772] \n",
      " [783596, 944568, 1014015, 968071, 1155387, 1436132, 1633278, 1465992, 1574266, 1721726]\n"
     ]
    }
   ],
   "source": [
    "# I would like to make sure that the lists appear as they should for graphing.\n",
    "print(CA_totals, '\\n', FL_totals, '\\n', NY_totals, '\\n', TX_totals)"
   ]
  },
  {
   "cell_type": "code",
   "execution_count": 66,
   "metadata": {},
   "outputs": [
    {
     "data": {
      "text/plain": [
       "Text(0, 0.5, 'Number of Checks via NICS')"
      ]
     },
     "execution_count": 66,
     "metadata": {},
     "output_type": "execute_result"
    },
    {
     "data": {
      "image/png": "[encoded data removed]",
      "text/plain": [
       "<Figure size 432x288 with 1 Axes>"
      ]
     },
     "metadata": {
      "needs_background": "light"
     },
     "output_type": "display_data"
    }
   ],
   "source": [
    "plt.plot(ten_years, CA_totals)\n",
    "plt.title('California')\n",
    "plt.xlabel('Year')\n",
    "plt.ylabel('Number of Checks via NICS')"
   ]
  },
  {
   "cell_type": "code",
   "execution_count": 67,
   "metadata": {},
   "outputs": [
    {
     "data": {
      "text/plain": [
       "Text(0, 0.5, 'Number of Checks via NICS')"
      ]
     },
     "execution_count": 67,
     "metadata": {},
     "output_type": "execute_result"
    },
    {
     "data": {
      "image/png": "[encoded data removed]",
      "text/plain": [
       "<Figure size 432x288 with 1 Axes>"
      ]
     },
     "metadata": {
      "needs_background": "light"
     },
     "output_type": "display_data"
    }
   ],
   "source": [
    "plt.plot(ten_years, FL_totals)\n",
    "plt.title('Florida')\n",
    "plt.xlabel('Year')\n",
    "plt.ylabel('Number of Checks via NICS')"
   ]
  },
  {
   "cell_type": "code",
   "execution_count": 68,
   "metadata": {},
   "outputs": [
    {
     "data": {
      "text/plain": [
       "Text(0, 0.5, 'Number of Checks via NICS')"
      ]
     },
     "execution_count": 68,
     "metadata": {},
     "output_type": "execute_result"
    },
    {
     "data": {
      "image/png": "[encoded data removed]",
      "text/plain": [
       "<Figure size 432x288 with 1 Axes>"
      ]
     },
     "metadata": {
      "needs_background": "light"
     },
     "output_type": "display_data"
    }
   ],
   "source": [
    "plt.plot(ten_years, NY_totals)\n",
    "plt.title('New York')\n",
    "plt.xlabel('Year')\n",
    "plt.ylabel('Number of Checks via NICS')"
   ]
  },
  {
   "cell_type": "code",
   "execution_count": 69,
   "metadata": {},
   "outputs": [
    {
     "data": {
      "text/plain": [
       "Text(0, 0.5, 'Number of Checks via NICS')"
      ]
     },
     "execution_count": 69,
     "metadata": {},
     "output_type": "execute_result"
    },
    {
     "data": {
      "image/png": "[encoded data removed]",
      "text/plain": [
       "<Figure size 432x288 with 1 Axes>"
      ]
     },
     "metadata": {
      "needs_background": "light"
     },
     "output_type": "display_data"
    }
   ],
   "source": [
    "plt.plot(ten_years, TX_totals)\n",
    "plt.title('Texas')\n",
    "plt.xlabel('Year')\n",
    "plt.ylabel('Number of Checks via NICS')"
   ]
  },
  {
   "cell_type": "markdown",
   "metadata": {},
   "source": [
    "California shows a rather marked increase beginning around 2011 but generally speaking the four states shown above show increases that are similar to the national trend for total checks via NICS."
   ]
  },
  {
   "cell_type": "markdown",
   "metadata": {},
   "source": [
    "As a final step we will take a look at the per capita figures.  This will give us an idea of which states show the hightest number of total checks per capita and we can use the 2010 and 2016 census data to get an idea of the changes between those two years."
   ]
  },
  {
   "cell_type": "code",
   "execution_count": 70,
   "metadata": {},
   "outputs": [],
   "source": [
    "total_checks_2010 = check_per_yr['2010']\n",
    "total_checks_2016 = check_per_yr['2016']"
   ]
  },
  {
   "cell_type": "code",
   "execution_count": 71,
   "metadata": {},
   "outputs": [],
   "source": [
    "checks_2010_2016 = pd.concat([populations, total_checks_2016], axis=1)"
   ]
  },
  {
   "cell_type": "code",
   "execution_count": 72,
   "metadata": {},
   "outputs": [
    {
     "data": {
      "text/plain": [
       "(50, 3)"
      ]
     },
     "execution_count": 72,
     "metadata": {},
     "output_type": "execute_result"
    }
   ],
   "source": [
    "checks_2010_2016.shape"
   ]
  },
  {
   "cell_type": "code",
   "execution_count": 73,
   "metadata": {},
   "outputs": [],
   "source": [
    "checks_2010_2016.rename(columns={'totals': '2016_total_checks'}, inplace=True)"
   ]
  },
  {
   "cell_type": "code",
   "execution_count": 74,
   "metadata": {},
   "outputs": [],
   "source": [
    "checks_2010_2016 = pd.concat([checks_2010_2016, total_checks_2010], axis=1)"
   ]
  },
  {
   "cell_type": "code",
   "execution_count": 75,
   "metadata": {},
   "outputs": [],
   "source": [
    "checks_2010_2016.rename(columns={'totals': '2010_total_checks'}, inplace=True)"
   ]
  },
  {
   "cell_type": "code",
   "execution_count": 76,
   "metadata": {},
   "outputs": [],
   "source": [
    "checks_2010_2016['per_capita_2016'] = checks_2010_2016['2016_total_checks'] / checks_2010_2016['adult_pop_2016']\n",
    "checks_2010_2016['per_capita_2010'] = checks_2010_2016['2010_total_checks'] / checks_2010_2016['adult_pop_2010']\n",
    "checks_2010_2016['per_capita_change'] = checks_2010_2016['per_capita_2016'] - checks_2010_2016['per_capita_2010']"
   ]
  },
  {
   "cell_type": "code",
   "execution_count": 77,
   "metadata": {},
   "outputs": [
    {
     "data": {
      "text/html": [
       "<div>\n",
       "<style scoped>\n",
       "    .dataframe tbody tr th:only-of-type {\n",
       "        vertical-align: middle;\n",
       "    }\n",
       "\n",
       "    .dataframe tbody tr th {\n",
       "        vertical-align: top;\n",
       "    }\n",
       "\n",
       "    .dataframe thead th {\n",
       "        text-align: right;\n",
       "    }\n",
       "</style>\n",
       "<table border=\"1\" class=\"dataframe\">\n",
       "  <thead>\n",
       "    <tr style=\"text-align: right;\">\n",
       "      <th></th>\n",
       "      <th>adult_pop_2016</th>\n",
       "      <th>adult_pop_2010</th>\n",
       "      <th>2016_total_checks</th>\n",
       "      <th>2010_total_checks</th>\n",
       "      <th>per_capita_2016</th>\n",
       "      <th>per_capita_2010</th>\n",
       "      <th>per_capita_change</th>\n",
       "    </tr>\n",
       "    <tr>\n",
       "      <th>state</th>\n",
       "      <th></th>\n",
       "      <th></th>\n",
       "      <th></th>\n",
       "      <th></th>\n",
       "      <th></th>\n",
       "      <th></th>\n",
       "      <th></th>\n",
       "    </tr>\n",
       "  </thead>\n",
       "  <tbody>\n",
       "    <tr>\n",
       "      <th>Alabama</th>\n",
       "      <td>3.764194e+06</td>\n",
       "      <td>3.647240e+06</td>\n",
       "      <td>616947</td>\n",
       "      <td>308607</td>\n",
       "      <td>0.163899</td>\n",
       "      <td>0.084614</td>\n",
       "      <td>0.079285</td>\n",
       "    </tr>\n",
       "    <tr>\n",
       "      <th>Alaska</th>\n",
       "      <td>5.549367e+05</td>\n",
       "      <td>5.227433e+05</td>\n",
       "      <td>87647</td>\n",
       "      <td>65909</td>\n",
       "      <td>0.157941</td>\n",
       "      <td>0.126083</td>\n",
       "      <td>0.031858</td>\n",
       "    </tr>\n",
       "    <tr>\n",
       "      <th>Arizona</th>\n",
       "      <td>5.302269e+06</td>\n",
       "      <td>4.762264e+06</td>\n",
       "      <td>416279</td>\n",
       "      <td>206050</td>\n",
       "      <td>0.078510</td>\n",
       "      <td>0.043267</td>\n",
       "      <td>0.035242</td>\n",
       "    </tr>\n",
       "    <tr>\n",
       "      <th>Arkansas</th>\n",
       "      <td>2.283021e+06</td>\n",
       "      <td>2.204515e+06</td>\n",
       "      <td>266014</td>\n",
       "      <td>191448</td>\n",
       "      <td>0.116518</td>\n",
       "      <td>0.086844</td>\n",
       "      <td>0.029675</td>\n",
       "    </tr>\n",
       "    <tr>\n",
       "      <th>California</th>\n",
       "      <td>3.014401e+07</td>\n",
       "      <td>2.794089e+07</td>\n",
       "      <td>2377167</td>\n",
       "      <td>816399</td>\n",
       "      <td>0.078860</td>\n",
       "      <td>0.029219</td>\n",
       "      <td>0.049642</td>\n",
       "    </tr>\n",
       "  </tbody>\n",
       "</table>\n",
       "</div>"
      ],
      "text/plain": [
       "            adult_pop_2016  adult_pop_2010  2016_total_checks  \\\n",
       "state                                                           \n",
       "Alabama       3.764194e+06    3.647240e+06             616947   \n",
       "Alaska        5.549367e+05    5.227433e+05              87647   \n",
       "Arizona       5.302269e+06    4.762264e+06             416279   \n",
       "Arkansas      2.283021e+06    2.204515e+06             266014   \n",
       "California    3.014401e+07    2.794089e+07            2377167   \n",
       "\n",
       "            2010_total_checks  per_capita_2016  per_capita_2010  \\\n",
       "state                                                             \n",
       "Alabama                308607         0.163899         0.084614   \n",
       "Alaska                  65909         0.157941         0.126083   \n",
       "Arizona                206050         0.078510         0.043267   \n",
       "Arkansas               191448         0.116518         0.086844   \n",
       "California             816399         0.078860         0.029219   \n",
       "\n",
       "            per_capita_change  \n",
       "state                          \n",
       "Alabama              0.079285  \n",
       "Alaska               0.031858  \n",
       "Arizona              0.035242  \n",
       "Arkansas             0.029675  \n",
       "California           0.049642  "
      ]
     },
     "execution_count": 77,
     "metadata": {},
     "output_type": "execute_result"
    }
   ],
   "source": [
    "checks_2010_2016.head()"
   ]
  },
  {
   "cell_type": "code",
   "execution_count": 78,
   "metadata": {},
   "outputs": [
    {
     "name": "stdout",
     "output_type": "stream",
     "text": [
      "state\n",
      "Kentucky    0.719575\n",
      "Utah        0.292159\n",
      "Montana     0.132011\n",
      "Alaska      0.126083\n",
      "Name: per_capita_2010, dtype: float64\n",
      "state\n",
      "New Jersey      0.007512\n",
      "Hawaii          0.009965\n",
      "New York        0.016039\n",
      "Rhode Island    0.017902\n",
      "Name: per_capita_2010, dtype: float64\n"
     ]
    }
   ],
   "source": [
    "# Let's graph the per capita increases for the 4 states that had the fewest checks per capita  \n",
    "#    and for the 4 states that had the most checks per capita in 2010.  \n",
    "\n",
    "print(checks_2010_2016['per_capita_2010'].nlargest(4))\n",
    "print(checks_2010_2016['per_capita_2010'].nsmallest(4))"
   ]
  },
  {
   "cell_type": "code",
   "execution_count": 79,
   "metadata": {},
   "outputs": [
    {
     "data": {
      "text/plain": [
       "<matplotlib.legend.Legend at 0x11d7b6f98>"
      ]
     },
     "execution_count": 79,
     "metadata": {},
     "output_type": "execute_result"
    },
    {
     "data": {
      "image/png": "[encoded data removed]",
      "text/plain": [
       "<Figure size 432x288 with 1 Axes>"
      ]
     },
     "metadata": {
      "needs_background": "light"
     },
     "output_type": "display_data"
    }
   ],
   "source": [
    "d = 2\n",
    "ind = np.arange(d)\n",
    "ticks = ['2010', '2016']\n",
    "width = .2\n",
    "large1 = [checks_2010_2016.per_capita_2010['Kentucky'], checks_2010_2016.per_capita_2016['Kentucky']]\n",
    "large2 = [checks_2010_2016.per_capita_2010['Utah'], checks_2010_2016.per_capita_2016['Utah']]\n",
    "large3 = [checks_2010_2016.per_capita_2010['Montana'], checks_2010_2016.per_capita_2016['Montana']]\n",
    "large4 = [checks_2010_2016.per_capita_2010['Alaska'], checks_2010_2016.per_capita_2016['Alaska']]\n",
    "\n",
    "plt.bar(ind, large1, width=width, align='edge', color='green', tick_label=ticks, label='Kentucky')\n",
    "plt.bar(ind + width, large2, width=width, align='edge', color='blue', tick_label=ticks, label='Utah')\n",
    "plt.bar(ind + width*2, large3, width=width, align='edge', color='cyan', tick_label=ticks, label='Montana')\n",
    "plt.bar(ind + width*3, large4, width=width, align='edge', color='magenta', tick_label=ticks, label='Alaska')\n",
    "\n",
    "plt.title('2010 vs 2016 Per Capita Checks - Highest States \\n (data reflects all types of checks)' )\n",
    "plt.xlabel('Year')\n",
    "plt.ylabel('Checks Per Capita Over 12 Months')\n",
    "plt.legend()"
   ]
  },
  {
   "cell_type": "code",
   "execution_count": 80,
   "metadata": {},
   "outputs": [
    {
     "data": {
      "text/plain": [
       "<matplotlib.legend.Legend at 0x11d821390>"
      ]
     },
     "execution_count": 80,
     "metadata": {},
     "output_type": "execute_result"
    },
    {
     "data": {
      "image/png": "[encoded data removed]",
      "text/plain": [
       "<Figure size 432x288 with 1 Axes>"
      ]
     },
     "metadata": {
      "needs_background": "light"
     },
     "output_type": "display_data"
    }
   ],
   "source": [
    "small1 = [checks_2010_2016.per_capita_2010['New Jersey'], checks_2010_2016.per_capita_2016['New Jersey']]\n",
    "small2 = [checks_2010_2016.per_capita_2010['Hawaii'], checks_2010_2016.per_capita_2016['Hawaii']]\n",
    "small3 = [checks_2010_2016.per_capita_2010['New York'], checks_2010_2016.per_capita_2016['New York']]\n",
    "small4 = [checks_2010_2016.per_capita_2010['Rhode Island'], checks_2010_2016.per_capita_2016['Rhode Island']]\n",
    "\n",
    "plt.bar(ind, small1, width=width, align='edge', color='gainsboro', tick_label=ticks, label='New Jersey')\n",
    "plt.bar(ind + width, small2, width=width, align='edge', color='black', tick_label=ticks, label='Hawaii')\n",
    "plt.bar(ind + width*2, small3, width=width, align='edge', color='khaki', tick_label=ticks, label='New York')\n",
    "plt.bar(ind + width*3, small4, width=width, align='edge', color='firebrick', tick_label=ticks, label='Rhode Island')\n",
    "\n",
    "plt.title('2010 vs 2016 Per Capita Checks - Lowest States \\n (data reflects all types of checks)' )\n",
    "plt.xlabel('Year')\n",
    "plt.ylabel('Checks Per Capita Over 12 Months')\n",
    "plt.legend()"
   ]
  },
  {
   "cell_type": "markdown",
   "metadata": {},
   "source": [
    "I referred to the bar chart examples in the following website for an example of how to set up bar graphs with multiple columns in matplotlib.\n",
    "**http://benalexkeen.com/bar-charts-in-matplotlib/**"
   ]
  },
  {
   "cell_type": "markdown",
   "metadata": {},
   "source": [
    "In states that had a high number of NICS checks per capita in 2010, not all of them show growth.  Some show decreases and others are relatively flat.\n",
    "\n",
    "All of the states with low per capita figures in 2010 show increases in checks from 2010 to 2016."
   ]
  },
  {
   "cell_type": "markdown",
   "metadata": {},
   "source": [
    "<a id='conclusions'></a>\n",
    "## Conclusions\n",
    "\n",
    "**Comments on Limitations:**  One major limitation to per capita section of the study is the availability of population data.  Ideally we would be able to view population data each year for several years, and preferably for the same ten year period that we used to view handgun checks and total NICS checks.\n",
    "\n",
    "Another limitation is way in which the categories in the data such as handguns and long-guns are are used by those reporting the data to the NICS.  As discussed above, there appear to have been changes in certain states as to how certain types of firearms are classified.  This does not impact the totals but it makes it much more difficult to analyze the individual types of checks.\n",
    "\n",
    "In this study I often relied on total checks found in the 'totals' column.  This 'totals' column aggregates different types of checks that are quite different.  For example, a check for a permits is quite different from a firearm purchase.  Ideally we would separate out all types of checks but some of them have very limited data and there may be some inconsistencies with how checks are classified from state to state.\n",
    "\n",
    "One final limitation pertains to the different regulations that exists in each state.  A more complete study might categorize states with similar regulations and make comparisons between those categories.  This would require more than NICS data.\n",
    "\n",
    "\n",
    "**General Conclusion:** In spite of the limitations described above, there has clearly been substantial growth in the number of background checks conducted through the NICS.  This growth has occurred across nearly all states and has occurred on both an absolute basis and on a per capita basis.  The growth in specific types of checks, such as checks for handguns, is harder to attribute to growth since there appears to have been changes in the way that checks have been classified, i.e. handgun vs long-gun."
   ]
  }
 ],
 "metadata": {
  "kernelspec": {
   "display_name": "Python 3",
   "language": "python",
   "name": "python3"
  },
  "language_info": {
   "codemirror_mode": {
    "name": "ipython",
    "version": 3
   },
   "file_extension": ".py",
   "mimetype": "text/x-python",
   "name": "python",
   "nbconvert_exporter": "python",
   "pygments_lexer": "ipython3",
   "version": "3.6.7"
  }
 },
 "nbformat": 4,
 "nbformat_minor": 2
}
